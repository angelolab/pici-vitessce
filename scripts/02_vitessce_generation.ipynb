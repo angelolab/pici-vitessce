{
 "cells": [
  {
   "cell_type": "code",
   "execution_count": null,
   "metadata": {},
   "outputs": [],
   "source": [
    "%load_ext autoreload\n",
    "%autoreload 2"
   ]
  },
  {
   "cell_type": "code",
   "execution_count": null,
   "metadata": {},
   "outputs": [],
   "source": [
    "from upath import UPath\n",
    "from vitessce import (\n",
    "    VitessceConfig,\n",
    ")\n",
    "\n",
    "import pici_vitessce as pv"
   ]
  },
  {
   "cell_type": "code",
   "execution_count": null,
   "metadata": {},
   "outputs": [],
   "source": [
    "vitessce_path = UPath(\"../data/vitessce\")\n",
    "# tumor_data_dir = vitessce_path / \"tumor\"\n",
    "# immune_data_dir = vitessce_path / \"immune\""
   ]
  },
  {
   "cell_type": "code",
   "execution_count": null,
   "metadata": {},
   "outputs": [],
   "source": [
    "fov = \"Stanford_TA552_R1C1\""
   ]
  },
  {
   "cell_type": "code",
   "execution_count": null,
   "metadata": {},
   "outputs": [],
   "source": [
    "immune_markers = [\n",
    "    \"CD11b\",\n",
    "    \"CD14\",\n",
    "    \"CD141\",\n",
    "    \"CD163\",\n",
    "    \"CD206\",\n",
    "    \"CD209\",\n",
    "    \"CD3\",\n",
    "    \"CD38\",\n",
    "    \"CD4\",\n",
    "    \"CD45\",\n",
    "    \"CD68\",\n",
    "    \"CD8\",\n",
    "    \"CD86\",\n",
    "    \"Calprotectin\",\n",
    "    \"Chym_Tryp\",\n",
    "    \"FoxP3\",\n",
    "    \"GLUT1\",\n",
    "    \"HLA1\",\n",
    "    \"HLADR\",\n",
    "    \"ICOS\",\n",
    "    \"IDO1\",\n",
    "    \"Ki67\",\n",
    "    \"LAG3\",\n",
    "    \"PD1\",\n",
    "    \"PDL1\",\n",
    "    \"TIM3\",\n",
    "    \"TMEM119\",\n",
    "    \"Tox\",\n",
    "    \"Arginase1\",\n",
    "    \"Olig2\",\n",
    "]\n",
    "tumor_markers = [\n",
    "    \"HLA1\",\n",
    "    \"CD14\",\n",
    "    \"CD3\",\n",
    "    \"CD45\",\n",
    "    \"CD8\",\n",
    "    \"FOXP3\",\n",
    "    \"HLADR\",\n",
    "    \"ApoE\",\n",
    "    \"B7H3\",\n",
    "    \"CD133\",\n",
    "    \"EGFR\",\n",
    "    \"EGFRvIII\",\n",
    "    \"GFAP\",\n",
    "    \"GM2_GD2\",\n",
    "    \"GPC2\",\n",
    "    \"H3K27M\",\n",
    "    \"H3K27me3\",\n",
    "    \"HER2\",\n",
    "    \"IDH1_R132H\",\n",
    "    \"Ki67\",\n",
    "    \"NG2\",\n",
    "    \"Olig2\",\n",
    "    \"VISTA\",\n",
    "]"
   ]
  },
  {
   "cell_type": "markdown",
   "metadata": {},
   "source": [
    "### Create Vitessce Dataset config"
   ]
  },
  {
   "cell_type": "code",
   "execution_count": null,
   "metadata": {},
   "outputs": [],
   "source": [
    "vc = VitessceConfig(schema_version=\"1.0.17\", name=fov, base_dir=vitessce_path / fov)\n",
    "tumor_dataset = pv.tl.add_vitessce_dataset(vc, fov=fov, dataset_name=\"tumor\")\n",
    "# immune_dataset = pv.tl.add_vitessce_dataset(vc, vitessce_path=vitessce_path, fov=fov, dataset_name=\"immune\")"
   ]
  },
  {
   "cell_type": "markdown",
   "metadata": {},
   "source": [
    "### Create Views and Configs"
   ]
  },
  {
   "cell_type": "code",
   "execution_count": null,
   "metadata": {},
   "outputs": [],
   "source": [
    "# immune_view = pv.tl.create_view(vc, immune_dataset, view_type=\"immune\")\n",
    "tumor_view = pv.tl.create_view(vc, tumor_dataset, view_type=\"tumor\")"
   ]
  },
  {
   "cell_type": "markdown",
   "metadata": {},
   "source": [
    "#### Scopes"
   ]
  },
  {
   "cell_type": "code",
   "execution_count": null,
   "metadata": {},
   "outputs": [],
   "source": [
    "# immune_scope_config = pv.tl.setup_scopes(vc, immune_view)\n",
    "tumor_scope_config = pv.tl.setup_scopes(vc, tumor_view)"
   ]
  },
  {
   "cell_type": "markdown",
   "metadata": {},
   "source": [
    "#### Coordination Setup"
   ]
  },
  {
   "cell_type": "markdown",
   "metadata": {},
   "source": [
    "Adjust the colors for the channels below, colors are from the [XKCD color survey](https://xkcd.com/color/rgb/). For Immune and Tumor images, we map the channel names to the colors."
   ]
  },
  {
   "cell_type": "code",
   "execution_count": null,
   "metadata": {},
   "outputs": [],
   "source": [
    "immune_color_map = {\n",
    "    \"CD14\": \"#650021\",  # maroon\n",
    "    \"CD68\": \"#cb416b\",  # dark pink\n",
    "    \"CD11b\": \"#840000\",  # dark red\n",
    "    \"Olig2\": \"#014d4e\",  # dark teal\n",
    "    \"GLUT1\": \"#b9a281\",  # taupe\n",
    "}\n",
    "tumor_color_map = {\n",
    "    \"EGFR\": \"#fac205\",  # goldenrod\n",
    "    \"B7H3\": \"#047495\",  # sea blue\n",
    "    \"GFAP\": \"#1e488f\",  # cobalt\n",
    "    \"H3K27me3\": \"#0a481e\",  # pine green\n",
    "    \"HLADR\": \"#c0737a\",  # dusty rose\n",
    "}"
   ]
  },
  {
   "cell_type": "code",
   "execution_count": null,
   "metadata": {},
   "outputs": [],
   "source": [
    "# pv.tl.link_views(\n",
    "#     vc,\n",
    "#     immune_view,\n",
    "#     immune_scope_config,\n",
    "#     vitessce_path=vitessce_path,\n",
    "#     dataset_name=\"immune\",\n",
    "#     fov=fov,\n",
    "#     channel_color_map=immune_color_map,\n",
    "# )\n",
    "pv.tl.link_views(\n",
    "    vc,\n",
    "    tumor_view,\n",
    "    tumor_scope_config,\n",
    "    vitessce_path=vitessce_path,\n",
    "    dataset_name=\"tumor\",\n",
    "    fov=fov,\n",
    "    channel_color_map=tumor_color_map,\n",
    ")"
   ]
  },
  {
   "cell_type": "code",
   "execution_count": null,
   "metadata": {},
   "outputs": [],
   "source": [
    "# immune_layout = pv.tl.set_layout(immune_view)\n",
    "tumor_layout = pv.tl.set_layout(tumor_view)"
   ]
  },
  {
   "cell_type": "code",
   "execution_count": null,
   "metadata": {},
   "outputs": [],
   "source": [
    "vc.layout(tumor_layout)"
   ]
  },
  {
   "cell_type": "code",
   "execution_count": null,
   "metadata": {},
   "outputs": [],
   "source": [
    "vc.web_app()"
   ]
  },
  {
   "cell_type": "code",
   "execution_count": null,
   "metadata": {},
   "outputs": [],
   "source": [
    "pv.tl.export_config(vc, tumor_view)"
   ]
  },
  {
   "cell_type": "code",
   "execution_count": null,
   "metadata": {},
   "outputs": [],
   "source": []
  }
 ],
 "metadata": {
  "kernelspec": {
   "display_name": ".venv",
   "language": "python",
   "name": "python3"
  },
  "language_info": {
   "codemirror_mode": {
    "name": "ipython",
    "version": 3
   },
   "file_extension": ".py",
   "mimetype": "text/x-python",
   "name": "python",
   "nbconvert_exporter": "python",
   "pygments_lexer": "ipython3",
   "version": "3.11.7"
  }
 },
 "nbformat": 4,
 "nbformat_minor": 2
}
