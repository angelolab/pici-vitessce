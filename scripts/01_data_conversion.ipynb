{
 "cells": [
  {
   "cell_type": "code",
   "execution_count": null,
   "metadata": {},
   "outputs": [],
   "source": [
    "%load_ext autoreload\n",
    "%autoreload 2"
   ]
  },
  {
   "cell_type": "code",
   "execution_count": null,
   "metadata": {},
   "outputs": [],
   "source": [
    "from upath import UPath\n",
    "\n",
    "import pici_vitessce as pv"
   ]
  },
  {
   "cell_type": "markdown",
   "metadata": {},
   "source": [
    "## Overview\n",
    "\n",
    "We will convert the data from the original format to an OME-Zarr format which works well with Vitessce and cloud storage. The configs will be generated in the $2^{nd}$ notebook.\n",
    "<center>\n",
    "<table>\n",
    "<tr>\n",
    "<th> Input Directory Structure </th>\n",
    "<th> Output Directory Structure </th>\n",
    "</tr>\n",
    "<tr>\n",
    "<td>\n",
    "\n",
    "```sh\n",
    "data/\n",
    "└── processed/\n",
    "    ├── immune/\n",
    "    │   ├── cell_table/\n",
    "    │   │   └── cell_table_immune_thresholded.parquet\n",
    "    │   ├── image_data/\n",
    "    │   │   ├── fov1/\n",
    "    │   │   │   ├── chan1.tiff\n",
    "    │   │   │   ├── chan2.tiff\n",
    "    │   │   │   └── ...\n",
    "    │   │   └── ...\n",
    "    │   └── segmentation/\n",
    "    │       └── deepcell_output/\n",
    "    │           ├── fov1_whole_cell.tiff\n",
    "    │           └── ...\n",
    "    ├── tumor/\n",
    "    │   └── cell_table/\n",
    "    │       └── cell_table_tumor_thresholded.parquet\n",
    "    ├── image_data/\n",
    "    │   ├── fov1/\n",
    "    │   │   ├── chan1.tiff\n",
    "    │   │   ├── chan2.tiff\n",
    "    │   │   └── ...\n",
    "    │   └── ...\n",
    "    └── segmentation/\n",
    "        └── deepcell_output/\n",
    "            ├── fov1_whole_cell.tiff\n",
    "            └── ...\n",
    "```\n",
    "\n",
    "</td>\n",
    "<td>\n",
    "\n",
    "```sh\n",
    "data/\n",
    "└── vitessce/\n",
    "    ├── fov1/\n",
    "    │   ├── immune/\n",
    "    │   │   ├── whole_cell_table.zarr\n",
    "    │   │   ├── image.ome.zarr\n",
    "    │   │   └── segmentation.ome.zarr\n",
    "    │   ├── tumor/\n",
    "    │   │   ├── whole_cell_table.zarr\n",
    "    │   │   ├── image.ome.zarr\n",
    "    │   │   └── segmentation.ome.zarr\n",
    "    │   └── configs/\n",
    "    │       ├── immune_config.json\n",
    "    │       ├── tumor_config.json\n",
    "    │       └── both_config.json\n",
    "    └── ...\n",
    "```\n",
    "\n",
    "</td>\n",
    "</tr>\n",
    "</table>\n",
    "</center>"
   ]
  },
  {
   "cell_type": "markdown",
   "metadata": {},
   "source": [
    "## Setup Data"
   ]
  },
  {
   "cell_type": "markdown",
   "metadata": {},
   "source": [
    "### Set up Directories\n",
    "\n",
    "We set up the directories for ingestion and output here."
   ]
  },
  {
   "cell_type": "code",
   "execution_count": null,
   "metadata": {},
   "outputs": [],
   "source": [
    "processed_data_path = UPath(\"../data/processed\")\n",
    "vitessce_path = UPath(\"../data/vitessce\")\n",
    "\n",
    "immune_data_path = processed_data_path / \"immune\"\n",
    "immune_cell_table_path = immune_data_path / \"cell_table/cell_table_immune_thresholded.parquet\"\n",
    "immune_fov_dir = immune_data_path / \"image_data\"\n",
    "immune_fov_paths = immune_fov_dir.glob(\"[!.]*\")\n",
    "immune_fov_names = [p.name for p in immune_fov_paths]\n",
    "immune_segmentation_dir = immune_data_path / \"segmentation/deepcell_output\"\n",
    "\n",
    "\n",
    "tumor_data_path = processed_data_path / \"tumor\"\n",
    "tumor_cell_table_path = tumor_data_path / \"cell_table/cell_table_tumor_thresholded.parquet\"\n",
    "tumor_fov_dir = tumor_data_path / \"image_data\"\n",
    "tumor_fov_paths = tumor_fov_dir.glob(\"[!.]*\")\n",
    "tumor_fov_names = [p.name for p in tumor_fov_paths]\n",
    "tumor_segmentation_dir = tumor_data_path / \"segmentation/deepcell_output\""
   ]
  },
  {
   "cell_type": "markdown",
   "metadata": {},
   "source": [
    "### Set up AnnData column names"
   ]
  },
  {
   "cell_type": "code",
   "execution_count": null,
   "metadata": {},
   "outputs": [],
   "source": [
    "immune_markers = [\n",
    "    \"CD11b\",\n",
    "    \"CD14\",\n",
    "    \"CD141\",\n",
    "    \"CD163\",\n",
    "    \"CD206\",\n",
    "    \"CD209\",\n",
    "    \"CD3\",\n",
    "    \"CD38\",\n",
    "    \"CD4\",\n",
    "    \"CD45\",\n",
    "    \"CD68\",\n",
    "    \"CD8\",\n",
    "    \"CD86\",\n",
    "    \"Calprotectin\",\n",
    "    \"Chym_Tryp\",\n",
    "    \"FoxP3\",\n",
    "    \"GLUT1\",\n",
    "    \"HLA1\",\n",
    "    \"HLADR\",\n",
    "    \"ICOS\",\n",
    "    \"IDO1\",\n",
    "    \"Ki67\",\n",
    "    \"LAG3\",\n",
    "    \"PD1\",\n",
    "    \"PDL1\",\n",
    "    \"TIM3\",\n",
    "    \"TMEM119\",\n",
    "    \"Tox\",\n",
    "    \"Arginase1\",\n",
    "    \"Olig2\",\n",
    "]\n",
    "tumor_markers = [\n",
    "    \"HLA1\",\n",
    "    \"CD14\",\n",
    "    \"CD3\",\n",
    "    \"CD45\",\n",
    "    \"CD8\",\n",
    "    \"FOXP3\",\n",
    "    \"HLADR\",\n",
    "    \"ApoE\",\n",
    "    \"B7H3\",\n",
    "    \"CD133\",\n",
    "    \"EGFR\",\n",
    "    \"EGFRvIII\",\n",
    "    \"GFAP\",\n",
    "    \"GM2_GD2\",\n",
    "    \"GPC2\",\n",
    "    \"H3K27M\",\n",
    "    \"H3K27me3\",\n",
    "    \"HER2\",\n",
    "    \"IDH1_R132H\",\n",
    "    \"Ki67\",\n",
    "    \"NG2\",\n",
    "    \"Olig2\",\n",
    "    \"VISTA\",\n",
    "]\n",
    "obs_cols = [\n",
    "    \"fov\",\n",
    "    \"label\",\n",
    "    \"cell_meta_cluster_final_broad\",\n",
    "    \"cell_meta_cluster_final\",\n",
    "]\n",
    "obsm_cols = [\"centroid-0\", \"centroid-1\"]"
   ]
  },
  {
   "cell_type": "markdown",
   "metadata": {},
   "source": [
    "## Convert to Vitessce Accessible Formats"
   ]
  },
  {
   "cell_type": "markdown",
   "metadata": {},
   "source": [
    "### Convert the Cell Table to AnnData"
   ]
  },
  {
   "cell_type": "code",
   "execution_count": null,
   "metadata": {},
   "outputs": [],
   "source": [
    "pv.pp.process_cell_table_to_anndata(\n",
    "    cell_table_path=immune_cell_table_path,\n",
    "    fovs=immune_fov_names,\n",
    "    markers=immune_markers,\n",
    "    obs_cols=obs_cols,\n",
    "    obsm_cols=obsm_cols,\n",
    "    segmentation_dir=immune_segmentation_dir,\n",
    "    fov_category=\"immune\",\n",
    "    vitessce_path=vitessce_path,\n",
    ")\n",
    "\n",
    "pv.pp.process_cell_table_to_anndata(\n",
    "    cell_table_path=tumor_cell_table_path,\n",
    "    fovs=tumor_fov_names,\n",
    "    markers=tumor_markers,\n",
    "    obs_cols=obs_cols,\n",
    "    obsm_cols=obsm_cols,\n",
    "    segmentation_dir=tumor_segmentation_dir,\n",
    "    fov_category=\"tumor\",\n",
    "    vitessce_path=vitessce_path,\n",
    "    rename_markers={\"FoxP3\": \"FOXP3\"},\n",
    ")"
   ]
  },
  {
   "cell_type": "markdown",
   "metadata": {},
   "source": [
    "### Convert the FOVs to OME-Zarr Images"
   ]
  },
  {
   "cell_type": "code",
   "execution_count": null,
   "metadata": {},
   "outputs": [],
   "source": [
    "pv.pp.convert_fovs_to_zarr(\n",
    "    fovs=immune_fov_names,\n",
    "    fov_category=\"immune\",\n",
    "    markers=immune_markers,\n",
    "    fovs_dir=immune_fov_dir,\n",
    "    vitessce_path=vitessce_path,\n",
    ")\n",
    "pv.pp.convert_fovs_to_zarr(\n",
    "    fovs=tumor_fov_names,\n",
    "    fov_category=\"tumor\",\n",
    "    markers=tumor_markers,\n",
    "    fovs_dir=tumor_fov_dir,\n",
    "    vitessce_path=vitessce_path,\n",
    ")"
   ]
  },
  {
   "cell_type": "markdown",
   "metadata": {},
   "source": [
    "### Convert the Segmentation Masks to OME-Zarr Images"
   ]
  },
  {
   "cell_type": "code",
   "execution_count": null,
   "metadata": {},
   "outputs": [],
   "source": [
    "pv.pp.convert_segmentations_to_zarr(\n",
    "    fovs=immune_fov_names,\n",
    "    fov_category=\"immune\",\n",
    "    segmentation_mask_suffixes=\"whole_cell\",\n",
    "    segmentation_dir=immune_segmentation_dir,\n",
    "    vitessce_path=vitessce_path,\n",
    ")\n",
    "pv.pp.convert_segmentations_to_zarr(\n",
    "    fovs=tumor_fov_names,\n",
    "    fov_category=\"tumor\",\n",
    "    segmentation_mask_suffixes=\"whole_cell\",\n",
    "    segmentation_dir=tumor_segmentation_dir,\n",
    "    vitessce_path=vitessce_path,\n",
    ")"
   ]
  },
  {
   "cell_type": "code",
   "execution_count": null,
   "metadata": {},
   "outputs": [],
   "source": []
  }
 ],
 "metadata": {
  "kernelspec": {
   "display_name": ".venv",
   "language": "python",
   "name": "python3"
  },
  "language_info": {
   "codemirror_mode": {
    "name": "ipython",
    "version": 3
   },
   "file_extension": ".py",
   "mimetype": "text/x-python",
   "name": "python",
   "nbconvert_exporter": "python",
   "pygments_lexer": "ipython3",
   "version": "3.11.7"
  }
 },
 "nbformat": 4,
 "nbformat_minor": 2
}
